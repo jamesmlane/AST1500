{
 "cells": [
  {
   "cell_type": "code",
   "execution_count": 6,
   "metadata": {
    "collapsed": true
   },
   "outputs": [],
   "source": [
    "# ------------------------------------------------------------------------\n",
    "#\n",
    "# TITLE -\n",
    "# AUTHOR - James Lane\n",
    "# PROJECT -\n",
    "# CONTENTS:\n",
    "#\n",
    "# ------------------------------------------------------------------------\n",
    "#\n",
    "# Docstrings and metadata:\n",
    "'''\n",
    "'''\n",
    "\n",
    "__author__ = \"James Lane\""
   ]
  },
  {
   "cell_type": "code",
   "execution_count": 7,
   "metadata": {},
   "outputs": [
    {
     "name": "stdout",
     "output_type": "stream",
     "text": [
      "Basic imports:\n",
      "numpy as np, sys, os, copy, glob, subprocess,\n",
      "matplotlib.pyplot as plt, matplotlib as mpl, astropy.units as apu\n"
     ]
    }
   ],
   "source": [
    "### Imports\n",
    "\n",
    "## Basic\n",
    "%run ../../src/_helpers/basic_imports.py\n",
    "\n",
    "## Plotting\n",
    "# from matplotlib.backends.backend_pdf import PdfPages\n",
    "# from matplotlib import colors\n",
    "# from matplotlib import cm\n",
    "\n",
    "## Astropy\n",
    "# from astropy.io import fits\n",
    "# from astropy.coordinates import SkyCoord\n",
    "# from astropy import table\n",
    "\n",
    "## galpy\n",
    "# from galpy import orbit\n",
    "# from galpy import potential\n",
    "# from galpy import actionAngle as aA\n",
    "# from galpy import df\n",
    "# from galpy.util import bovy_coords as gpcoords\n",
    "# from galpy.util import bovy_conversion as gpconv\n",
    "# from galpy.util import bovy_plot as gpplot\n",
    "\n",
    "## Project-specific\n",
    "sys.path.insert(0,'../../src/')\n",
    "# import project_module.sub_module"
   ]
  },
  {
   "cell_type": "code",
   "execution_count": 9,
   "metadata": {},
   "outputs": [
    {
     "name": "stdout",
     "output_type": "stream",
     "text": [
      "Automatic pdb calling has been turned ON\n"
     ]
    }
   ],
   "source": [
    "### Notebook setup\n",
    "\n",
    "## Matplotlib for notebooks\n",
    "%matplotlib inline\n",
    "%config InlineBackend.figure_format = 'retina'\n",
    "\n",
    "## Debugging, \n",
    "# to automatically drop in during error use %pdb\n",
    "from IPython.core.debugger import set_trace"
   ]
  }
 ],
 "metadata": {
  "kernel_info": {
   "name": "python3"
  },
  "kernelspec": {
   "display_name": "Python 3",
   "language": "python",
   "name": "python3"
  },
  "language_info": {
   "codemirror_mode": {
    "name": "ipython",
    "version": 3
   },
   "file_extension": ".py",
   "mimetype": "text/x-python",
   "name": "python",
   "nbconvert_exporter": "python",
   "pygments_lexer": "ipython3",
   "version": "3.6.7"
  },
  "nteract": {
   "version": "0.14.3"
  }
 },
 "nbformat": 4,
 "nbformat_minor": 2
}
