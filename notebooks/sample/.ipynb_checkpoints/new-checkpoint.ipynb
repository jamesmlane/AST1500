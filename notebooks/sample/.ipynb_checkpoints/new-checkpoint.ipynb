{
 "cells": [
  {
   "cell_type": "code",
   "execution_count": 1,
   "metadata": {
    "collapsed": true
   },
   "outputs": [],
   "source": [
    "# ------------------------------------------------------------------------\n",
    "#\n",
    "# TITLE -\n",
    "# AUTHOR - James Lane\n",
    "# PROJECT -\n",
    "# CONTENTS:\n",
    "#\n",
    "# ------------------------------------------------------------------------\n",
    "#\n",
    "# Docstrings and metadata:\n",
    "'''\n",
    "'''\n",
    "\n",
    "__author__ = \"James Lane\""
   ]
  },
  {
   "cell_type": "code",
   "execution_count": 7,
   "metadata": {},
   "outputs": [
    {
     "name": "stdout",
     "output_type": "stream",
     "text": [
      "Basic imports:\n",
      "numpy as np,\n",
      "sys,\n",
      "os,\n",
      "copy,\n",
      "glob,\n",
      "subprocess,\n",
      "matplotlib.pyplot as plt,\n",
      "matplotlib as mpl,\n",
      "astropy.units as apu\n"
     ]
    }
   ],
   "source": [
    "# %load ../../src/_helpers/basic_imports.py\n",
    "## General use\n",
    "import numpy as np\n",
    "import sys, os, copy, glob, subprocess\n",
    "\n",
    "## Plotting\n",
    "from matplotlib import pyplot as plt\n",
    "import matplotlib as mpl\n",
    "\n",
    "## Astropy\n",
    "from astropy import units as apu\n",
    "\n",
    "print('Basic imports:\\nnumpy as np,\\nsys,\\nos,\\ncopy,\\nglob,\\nsubprocess,\\nmatplotlib.pyplot as plt,\\nmatplotlib as mpl,\\nastropy.units as apu')"
   ]
  },
  {
   "cell_type": "code",
   "execution_count": null,
   "metadata": {
    "collapsed": true
   },
   "outputs": [],
   "source": []
  },
  {
   "cell_type": "code",
   "execution_count": null,
   "metadata": {
    "collapsed": true
   },
   "outputs": [],
   "source": []
  },
  {
   "cell_type": "code",
   "execution_count": null,
   "metadata": {
    "collapsed": true
   },
   "outputs": [],
   "source": [
    "# Matplotlib for notebooks\n",
    "%matplotlib inline\n",
    "%config InlineBackend.figure_format = 'retina'\n",
    "\n",
    "### Debugging, automatically drop in during error\n",
    "%pdb\n",
    "from IPython.core.debugger import set_trace"
   ]
  }
 ],
 "metadata": {
  "kernel_info": {
   "name": "python3"
  },
  "kernelspec": {
   "display_name": "Python 3",
   "language": "python",
   "name": "python3"
  },
  "language_info": {
   "codemirror_mode": {
    "name": "ipython",
    "version": 3
   },
   "file_extension": ".py",
   "mimetype": "text/x-python",
   "name": "python",
   "nbconvert_exporter": "python",
   "pygments_lexer": "ipython3",
   "version": "3.6.7"
  },
  "nteract": {
   "version": "0.14.3"
  }
 },
 "nbformat": 4,
 "nbformat_minor": 2
}
