{
 "cells": [
  {
   "cell_type": "code",
   "execution_count": 1,
   "metadata": {},
   "outputs": [],
   "source": [
    "# ------------------------------------------------------------------------\n",
    "#\n",
    "# TITLE - make_simulation_filters.ipynb\n",
    "# AUTHOR - James Lane\n",
    "# PROJECT - AST 1500\n",
    "#\n",
    "# ------------------------------------------------------------------------\n",
    "#\n",
    "# Docstrings and metadata:\n",
    "'''Make filter parameters for OOMAO simulations\n",
    "'''\n",
    "\n",
    "__author__ = \"James Lane\""
   ]
  },
  {
   "cell_type": "code",
   "execution_count": 2,
   "metadata": {},
   "outputs": [
    {
     "name": "stdout",
     "output_type": "stream",
     "text": [
      "Basic imports:\n",
      "numpy as np, sys, os, copy, glob, subprocess,\n",
      "matplotlib.pyplot as plt, matplotlib as mpl, astropy.units as apu\n"
     ]
    }
   ],
   "source": [
    "### Imports\n",
    "\n",
    "## Basic\n",
    "%run ../../src/_helpers/basic_imports.py\n",
    "import pdb\n",
    "\n",
    "## Plotting\n",
    "from matplotlib.backends.backend_pdf import PdfPages\n",
    "from matplotlib import colors\n",
    "from matplotlib import cm\n",
    "\n",
    "## Scipy\n",
    "import scipy.io\n",
    "\n",
    "## Astropy\n",
    "from astropy.io import fits\n",
    "from astropy.table import Table\n",
    "\n",
    "## Project-specific\n",
    "sys.path.insert(0,'../../src/')\n",
    "import ast1500.spectra\n"
   ]
  },
  {
   "cell_type": "markdown",
   "metadata": {},
   "source": [
    "# Read the table of filter properties"
   ]
  },
  {
   "cell_type": "code",
   "execution_count": 3,
   "metadata": {},
   "outputs": [],
   "source": [
    "# Read in the filter properties from SVO\n",
    "tab_all = Table.read('../../data/filter_data/filter_properties.txt', format='ascii.csv')"
   ]
  },
  {
   "cell_type": "code",
   "execution_count": 4,
   "metadata": {},
   "outputs": [
    {
     "data": {
      "text/html": [
       "<i>Table length=6</i>\n",
       "<table id=\"table4514539168\" class=\"table-striped table-bordered table-condensed\">\n",
       "<thead><tr><th>Name</th><th>lambda_mean</th><th>lambda_eff</th><th>lambda_max</th><th>lambda_min</th><th>ZP</th></tr></thead>\n",
       "<thead><tr><th>str17</th><th>float64</th><th>float64</th><th>int64</th><th>int64</th><th>float64</th></tr></thead>\n",
       "<tr><td>MMT/MMTCam.i</td><td>7674.9</td><td>7591.2</td><td>6790</td><td>8506</td><td>2535.4</td></tr>\n",
       "<tr><td>MMT/MMTCam.z</td><td>9454.2</td><td>9334.0</td><td>8225</td><td>10727</td><td>2188.7</td></tr>\n",
       "<tr><td>MMT/MMIRS.Y</td><td>10200.5</td><td>10166.4</td><td>9423</td><td>11054</td><td>2093.2</td></tr>\n",
       "<tr><td>MMT/MMIRS.J</td><td>12519.1</td><td>12453.0</td><td>11490</td><td>13584</td><td>1556.0</td></tr>\n",
       "<tr><td>MMT/MMIRS.H</td><td>16437.2</td><td>16293.6</td><td>14649</td><td>18267</td><td>1032.5</td></tr>\n",
       "<tr><td>MMT/MMIRS.Ks</td><td>21612.5</td><td>21454.3</td><td>19541</td><td>23833</td><td>668.3</td></tr>\n",
       "</table>"
      ],
      "text/plain": [
       "<Table length=6>\n",
       "    Name     lambda_mean lambda_eff lambda_max lambda_min    ZP  \n",
       "   str17       float64    float64     int64      int64    float64\n",
       "------------ ----------- ---------- ---------- ---------- -------\n",
       "MMT/MMTCam.i      7674.9     7591.2       6790       8506  2535.4\n",
       "MMT/MMTCam.z      9454.2     9334.0       8225      10727  2188.7\n",
       " MMT/MMIRS.Y     10200.5    10166.4       9423      11054  2093.2\n",
       " MMT/MMIRS.J     12519.1    12453.0      11490      13584  1556.0\n",
       " MMT/MMIRS.H     16437.2    16293.6      14649      18267  1032.5\n",
       "MMT/MMIRS.Ks     21612.5    21454.3      19541      23833   668.3"
      ]
     },
     "execution_count": 4,
     "metadata": {},
     "output_type": "execute_result"
    }
   ],
   "source": [
    "# Display table\n",
    "tab = tab_all[4:10]\n",
    "tab"
   ]
  },
  {
   "cell_type": "code",
   "execution_count": 5,
   "metadata": {},
   "outputs": [],
   "source": [
    "# Extract the properties\n",
    "name = tab['Name'].data\n",
    "lambda_mean = tab['lambda_mean'].data\n",
    "lambda_eff = tab['lambda_eff'].data\n",
    "lambda_max = tab['lambda_max'].data\n",
    "lambda_min = tab['lambda_min'].data\n",
    "zero_point = tab['ZP'].data"
   ]
  },
  {
   "cell_type": "markdown",
   "metadata": {},
   "source": [
    "# Read the filter profiles themselves\n",
    "Going to read $i$ and $z$ from the MMTCam and $Y$, $J$, $H$, and $K_{s}$ from MMIRS"
   ]
  },
  {
   "cell_type": "code",
   "execution_count": 12,
   "metadata": {},
   "outputs": [
    {
     "data": {
      "text/plain": [
       "<module 'ast1500.spectra' from '../../src/ast1500/spectra.py'>"
      ]
     },
     "execution_count": 12,
     "metadata": {},
     "output_type": "execute_result"
    }
   ],
   "source": [
    "import importlib\n",
    "importlib.reload(ast1500.spectra)"
   ]
  },
  {
   "cell_type": "code",
   "execution_count": 13,
   "metadata": {},
   "outputs": [],
   "source": [
    "filter_i = ast1500.spectra.PhotometricFilter(filter_class='MMTCam',filter_name='i')\n",
    "filter_z = ast1500.spectra.PhotometricFilter(filter_class='MMTCam',filter_name='z')\n",
    "filter_Y = ast1500.spectra.PhotometricFilter(filter_class='MMIRS',filter_name='Y')\n",
    "filter_J = ast1500.spectra.PhotometricFilter(filter_class='MMIRS',filter_name='J')\n",
    "filter_H = ast1500.spectra.PhotometricFilter(filter_class='MMIRS',filter_name='H')\n",
    "filter_Ks = ast1500.spectra.PhotometricFilter(filter_class='MMIRS',filter_name='Ks')\n",
    "\n",
    "filter_arr = [filter_i,filter_z,filter_Y,filter_J,filter_H,filter_Ks]\n",
    "n_filters = len(filter_arr)"
   ]
  },
  {
   "cell_type": "code",
   "execution_count": 14,
   "metadata": {},
   "outputs": [
    {
     "data": {
      "text/plain": [
       "array([0.92608727, 0.94202034, 0.94017776])"
      ]
     },
     "execution_count": 14,
     "metadata": {},
     "output_type": "execute_result"
    }
   ],
   "source": [
    "filter_i.response(np.array([7000,7500,8000]))"
   ]
  },
  {
   "cell_type": "code",
   "execution_count": 16,
   "metadata": {},
   "outputs": [
    {
     "data": {
      "image/png": "[encoded data removed]",
      "text/plain": [
       "<matplotlib.figure.Figure at 0x112554080>"
      ]
     },
     "metadata": {},
     "output_type": "display_data"
    }
   ],
   "source": [
    "fig = plt.figure(figsize=(12,5))\n",
    "ax = fig.add_subplot(111)\n",
    "wavelength_range = np.arange(6500,25000,1)\n",
    "\n",
    "fig,ax = filter_i.plot_response(wavelength=wavelength_range, fig=fig, ax=ax, \n",
    "                                plot_kws={'c':'Purple'})\n",
    "fig,ax = filter_z.plot_response(wavelength=wavelength_range, fig=fig, ax=ax,\n",
    "                                plot_kws={'c':'Red'})\n",
    "fig,ax = filter_Y.plot_response(wavelength=wavelength_range, fig=fig, ax=ax,\n",
    "                                plot_kws={'c':'Black'})\n",
    "fig,ax = filter_J.plot_response(wavelength=wavelength_range, fig=fig, ax=ax,\n",
    "                                plot_kws={'c':'DarkOrange'})\n",
    "fig,ax = filter_H.plot_response(wavelength=wavelength_range, fig=fig, ax=ax,\n",
    "                                plot_kws={'c':'DodgerBlue'})\n",
    "fig,ax = filter_Ks.plot_response(wavelength=wavelength_range, fig=fig, ax=ax,\n",
    "                                plot_kws={'c':'ForestGreen'})\n",
    "\n",
    "fig.set_facecolor('White')\n",
    "plt.show()"
   ]
  },
  {
   "cell_type": "markdown",
   "metadata": {},
   "source": [
    "# Calculate properties in a simple manner"
   ]
  },
  {
   "cell_type": "markdown",
   "metadata": {},
   "source": [
    "## Wavelength Minima and Maxima\n",
    "Calculate the minimum wavelength for the filter. Figure out the first wavelength where the filter response reaches half it's maxima"
   ]
  },
  {
   "cell_type": "code",
   "execution_count": 22,
   "metadata": {},
   "outputs": [
    {
     "data": {
      "text/plain": [
       "'i'"
      ]
     },
     "execution_count": 22,
     "metadata": {},
     "output_type": "execute_result"
    }
   ],
   "source": [
    "filter_i.filter_name"
   ]
  },
  {
   "cell_type": "code",
   "execution_count": 23,
   "metadata": {},
   "outputs": [
    {
     "data": {
      "text/html": [
       "<i>Table length=6</i>\n",
       "<table id=\"table4514539168\" class=\"table-striped table-bordered table-condensed\">\n",
       "<thead><tr><th>Name</th><th>lambda_mean</th><th>lambda_eff</th><th>lambda_max</th><th>lambda_min</th><th>ZP</th></tr></thead>\n",
       "<thead><tr><th>str17</th><th>float64</th><th>float64</th><th>int64</th><th>int64</th><th>float64</th></tr></thead>\n",
       "<tr><td>MMT/MMTCam.i</td><td>7674.9</td><td>7591.2</td><td>6790</td><td>8506</td><td>2535.4</td></tr>\n",
       "<tr><td>MMT/MMTCam.z</td><td>9454.2</td><td>9334.0</td><td>8225</td><td>10727</td><td>2188.7</td></tr>\n",
       "<tr><td>MMT/MMIRS.Y</td><td>10200.5</td><td>10166.4</td><td>9423</td><td>11054</td><td>2093.2</td></tr>\n",
       "<tr><td>MMT/MMIRS.J</td><td>12519.1</td><td>12453.0</td><td>11490</td><td>13584</td><td>1556.0</td></tr>\n",
       "<tr><td>MMT/MMIRS.H</td><td>16437.2</td><td>16293.6</td><td>14649</td><td>18267</td><td>1032.5</td></tr>\n",
       "<tr><td>MMT/MMIRS.Ks</td><td>21612.5</td><td>21454.3</td><td>19541</td><td>23833</td><td>668.3</td></tr>\n",
       "</table>"
      ],
      "text/plain": [
       "<Table length=6>\n",
       "    Name     lambda_mean lambda_eff lambda_max lambda_min    ZP  \n",
       "   str17       float64    float64     int64      int64    float64\n",
       "------------ ----------- ---------- ---------- ---------- -------\n",
       "MMT/MMTCam.i      7674.9     7591.2       6790       8506  2535.4\n",
       "MMT/MMTCam.z      9454.2     9334.0       8225      10727  2188.7\n",
       " MMT/MMIRS.Y     10200.5    10166.4       9423      11054  2093.2\n",
       " MMT/MMIRS.J     12519.1    12453.0      11490      13584  1556.0\n",
       " MMT/MMIRS.H     16437.2    16293.6      14649      18267  1032.5\n",
       "MMT/MMIRS.Ks     21612.5    21454.3      19541      23833   668.3"
      ]
     },
     "execution_count": 23,
     "metadata": {},
     "output_type": "execute_result"
    }
   ],
   "source": [
    "tab"
   ]
  },
  {
   "cell_type": "code",
   "execution_count": 78,
   "metadata": {},
   "outputs": [
    {
     "name": "stdout",
     "output_type": "stream",
     "text": [
      "Name: i\n",
      "Wavelength min: 6795.0\n",
      "Wavelength max: 8505.0\n",
      "Bandwidth: 1710.0\n",
      "\n",
      "Name: z\n",
      "Wavelength min: 8230.0\n",
      "Wavelength max: 10725.0\n",
      "Bandwidth: 2495.0\n",
      "\n",
      "Name: Y\n",
      "Wavelength min: 9430.0\n",
      "Wavelength max: 11030.0\n",
      "Bandwidth: 1600.0\n",
      "\n",
      "Name: J\n",
      "Wavelength min: 11500.0\n",
      "Wavelength max: 13570.0\n",
      "Bandwidth: 2070.0\n",
      "\n",
      "Name: H\n",
      "Wavelength min: 14660.0\n",
      "Wavelength max: 18260.0\n",
      "Bandwidth: 3600.0\n",
      "\n",
      "Name: Ks\n",
      "Wavelength min: 19560.0\n",
      "Wavelength max: 23810.0\n",
      "Bandwidth: 4250.0\n",
      "\n"
     ]
    }
   ],
   "source": [
    "for i in range(n_filters):\n",
    "    \n",
    "    wavelength_data = filter_arr[i].wavelength_data\n",
    "    response_data = filter_arr[i].response_data\n",
    "    response_max = max(response_data)\n",
    "    where_response_half_max = np.where( response_data > 0.01 )[0]\n",
    "    min_wavelength = wavelength_data[where_response_half_max[0]]\n",
    "    max_wavelength = wavelength_data[where_response_half_max[-1]]\n",
    "        \n",
    "#     fig = plt.figure()\n",
    "#     ax = fig.add_subplot(111)\n",
    "#     fig, ax = filter_arr[i].plot_response(fig=fig, ax=ax, plot_kws={'c':'Black','lw':'0.5'})\n",
    "#     ax.axvline(min_wavelength, c='Black', linestyle='dashed', linewidth=0.5)\n",
    "#     ax.axvline(max_wavelength, c='Black', linestyle='dashed', linewidth=0.5)\n",
    "#     fig.set_facecolor('White')\n",
    "#     plt.show()\n",
    "    \n",
    "    print('Name: '+filter_arr[i].filter_name)\n",
    "    print('Wavelength min: '+str(min_wavelength))\n",
    "    print('Wavelength max: '+str(max_wavelength))\n",
    "    print('Bandwidth: '+str(max_wavelength-min_wavelength)+'\\n')\n",
    "###i"
   ]
  },
  {
   "cell_type": "markdown",
   "metadata": {},
   "source": [
    "## Central wavelength\n",
    "Need to calculate the zero point in number of photons for each filter. First we take a standard star and attempt to calculate it's zero point for each filter and compare with the known results"
   ]
  },
  {
   "cell_type": "code",
   "execution_count": 36,
   "metadata": {},
   "outputs": [
    {
     "name": "stdout",
     "output_type": "stream",
     "text": [
      "Name: i\n",
      "Central Wavelength: 7674.903941515325\n",
      "Name: z\n",
      "Central Wavelength: 9454.210171930928\n",
      "Name: Y\n",
      "Central Wavelength: 10200.456175014866\n",
      "Name: J\n",
      "Central Wavelength: 12519.107182548225\n",
      "Name: H\n",
      "Central Wavelength: 16437.212333339667\n",
      "Name: Ks\n",
      "Central Wavelength: 21612.452221440868\n"
     ]
    }
   ],
   "source": [
    "for i in range(n_filters):\n",
    "    \n",
    "    wavelength_data = filter_arr[i].wavelength_data\n",
    "    response_data = filter_arr[i].response_data\n",
    "    wavelength_delta = np.diff(wavelength_data)\n",
    "    assert np.all(wavelength_delta==wavelength_delta[0])\n",
    "    wavelength_delta = wavelength_delta[0]\n",
    "    \n",
    "    central_wavelength = np.sum(wavelength_data*response_data*wavelength_delta)/\\\n",
    "        np.sum(response_data*wavelength_delta)\n",
    "    \n",
    "    print('Name: '+filter_arr[i].filter_name)\n",
    "    print('Central Wavelength: '+str(central_wavelength))\n",
    "###i"
   ]
  },
  {
   "cell_type": "markdown",
   "metadata": {},
   "source": [
    "## Find the zero point.\n",
    "First determine the zero point for constant 3631 Jy"
   ]
  },
  {
   "cell_type": "code",
   "execution_count": 73,
   "metadata": {},
   "outputs": [],
   "source": [
    "# Figure out the zero-point in flambda units\n",
    "wavelengths = np.arange(7000,25000,1.0)\n",
    "ab_zp_fnu = np.ones_like(wavelengths) * 3631 * (10**-26) # AB zero point in fnu in Watts / Hz / square meter\n",
    "c_in_angstrom = 3E18 # Speed of light in angstroms / second\n",
    "ab_zp_flambda = ab_zp_fnu * c_in_angstrom / wavelengths**2"
   ]
  },
  {
   "cell_type": "code",
   "execution_count": 77,
   "metadata": {},
   "outputs": [
    {
     "name": "stdout",
     "output_type": "stream",
     "text": [
      "Name: i\n",
      "Zero-point: 96.94492476015722\n",
      "Name: z\n",
      "Zero-point: 121.8941979108795\n",
      "Name: Y\n",
      "Zero-point: 54.707081528518145\n",
      "Name: J\n",
      "Zero-point: 62.51799735656849\n",
      "Name: H\n",
      "Zero-point: 91.52309774193384\n",
      "Name: Ks\n",
      "Zero-point: 68.56771274583345\n"
     ]
    }
   ],
   "source": [
    "for i in range(n_filters):\n",
    "    \n",
    "    ab_zp_flambda_convolve = ab_zp_flambda * filter_arr[i].response(wavelengths)\n",
    "    # dlambda is 1.0\n",
    "    ab_zp = 100*100*np.sum( ab_zp_flambda_convolve * (wavelengths/(c_in_angstrom*6.626E-34)) )\n",
    "    \n",
    "    print('Name: '+filter_arr[i].filter_name)\n",
    "    print('Zero-point: '+str(ab_zp/1E12))\n",
    "###i"
   ]
  },
  {
   "cell_type": "code",
   "execution_count": null,
   "metadata": {},
   "outputs": [],
   "source": []
  },
  {
   "cell_type": "markdown",
   "metadata": {},
   "source": [
    "## Read the spectral library"
   ]
  },
  {
   "cell_type": "code",
   "execution_count": 53,
   "metadata": {},
   "outputs": [],
   "source": [
    "spec_library = ast1500.spectra.ESOSpectralLibrary()\n",
    "vega_spec = spec_library.read_spectra('uka0v',flambda=True)"
   ]
  },
  {
   "cell_type": "code",
   "execution_count": 67,
   "metadata": {},
   "outputs": [],
   "source": [
    "vega_wavelength = vega_spec.wavelength\n",
    "assert np.any( np.diff(vega_wavelength) == np.diff(vega_wavelength)[0] )\n",
    "vega_delta_wavelength = np.diff(vega_wavelength)[0]\n",
    "vega_flambda = vega_spec.data\n",
    "planck_constant = 6.626E-34"
   ]
  },
  {
   "cell_type": "code",
   "execution_count": 83,
   "metadata": {},
   "outputs": [
    {
     "name": "stdout",
     "output_type": "stream",
     "text": [
      "Name: i\n",
      "Zero-point: 1.7958503449634025e+18\n",
      "Name: z\n",
      "Zero-point: 1.8743981694387213e+18\n",
      "Name: Y\n",
      "Zero-point: 1.9133905410195302e+18\n",
      "Name: J\n",
      "Zero-point: 1.7381867155325197e+18\n",
      "Name: H\n",
      "Zero-point: 1.501911192101156e+18\n",
      "Name: Ks\n",
      "Zero-point: 1.2762034565975055e+18\n"
     ]
    }
   ],
   "source": [
    "for i in range(n_filters):\n",
    "    \n",
    "    vega_wavelength_response = filter_arr[i].response(vega_wavelength)\n",
    "    vega_flambda_convolve = vega_flambda * vega_wavelength_response\n",
    "    \n",
    "#     plt.plot(vega_wavelength,vega_flambda_convolve)\n",
    "#     fig = plt.gcf()\n",
    "#     fig.set_facecolor('White')\n",
    "#     plt.show()\n",
    "\n",
    "    # Calculate the zero point in number of photons\n",
    "    zp = np.sum( vega_flambda_convolve * \\\n",
    "                (vega_wavelength/(planck_constant*c_in_angstrom)) * \\\n",
    "                vega_delta_wavelength \\\n",
    "               )\n",
    "    zp /= np.sum( vega_wavelength_response * \\\n",
    "                  c_in_angstrom * vega_delta_wavelength /\\\n",
    "                  (vega_wavelength**2)\n",
    "                )\n",
    "    print('Name: '+filter_arr[i].filter_name)\n",
    "    print('Zero-point: '+str(zp))\n",
    "###i"
   ]
  },
  {
   "cell_type": "markdown",
   "metadata": {},
   "source": [
    "Try from the filters recorded properties"
   ]
  },
  {
   "cell_type": "code",
   "execution_count": 81,
   "metadata": {},
   "outputs": [
    {
     "name": "stdout",
     "output_type": "stream",
     "text": [
      "9.682427044974343e-05\n",
      "0.00010277354764060771\n",
      "0.00010705457530938727\n",
      "9.74789616661636e-05\n",
      "8.463196498641715e-05\n",
      "7.212953360499042e-05\n"
     ]
    }
   ],
   "source": [
    "for i in range(n_filters):\n",
    "    this_filter = tab[i]\n",
    "    eff_wavelength = this_filter['lambda_eff']\n",
    "    zp_Jy = this_filter['ZP']\n",
    "    zp_W = zp_Jy * 10**-26\n",
    "    zp_ph = zp_W * ( eff_wavelength / (3E18 * 6.626E-34) )\n",
    "    print(zp_ph)"
   ]
  },
  {
   "cell_type": "markdown",
   "metadata": {},
   "source": [
    "# Just make new OOMAO filters out of old ones"
   ]
  },
  {
   "cell_type": "code",
   "execution_count": 84,
   "metadata": {},
   "outputs": [],
   "source": [
    "OOMAO_filter_names = np.array(['z','Y','J','H','Ks'])\n",
    "OOMAO_filter_cents = np.array([0.945,1.020,1.215,1.654,2.157])\n",
    "OOMAO_filter_widths = np.array([0.25,0.16,0.26,0.29,0.32])\n",
    "OOMAO_filter_zps = np.array([2.7,1.7,1.9,1.1,0.55])*1e12"
   ]
  },
  {
   "cell_type": "code",
   "execution_count": 95,
   "metadata": {},
   "outputs": [],
   "source": [
    "new_OOMAO_filters = [\n",
    "    ['z','J'],\n",
    "    ['Y','J'],\n",
    "    ['J','H'],\n",
    "    ['H','Ks']\n",
    "]\n",
    "n_new_filters = len(new_OOMAO_filters)\n",
    "\n",
    "new_filter_names = np.empty(n_new_filters,dtype='U10')\n",
    "new_filter_cents = np.zeros(n_new_filters)\n",
    "new_filter_widths = np.zeros(n_new_filters)\n",
    "new_filter_zps = np.zeros(n_new_filters)"
   ]
  },
  {
   "cell_type": "code",
   "execution_count": 97,
   "metadata": {},
   "outputs": [],
   "source": [
    "for i in range(n_new_filters):\n",
    "    \n",
    "    comp_filter_names = new_OOMAO_filters[i]\n",
    "    n_comp_filters = len(comp_filter_names)\n",
    "    new_filter_name = ''\n",
    "    comp_filter_inds = []\n",
    "    for name in comp_filter_names:\n",
    "        comp_filter_inds.append(np.where( OOMAO_filter_names == name )[0][0])\n",
    "        new_filter_name += name\n",
    "    ###i\n",
    "    \n",
    "    \n",
    "    comp_filter_cents = OOMAO_filter_cents[comp_filter_inds]\n",
    "    comp_filter_widths = OOMAO_filter_widths[comp_filter_inds]\n",
    "    comp_filter_zps = OOMAO_filter_zps[comp_filter_inds]\n",
    "    \n",
    "    new_filter_names[i] = new_filter_name\n",
    "    new_filter_cents[i] = np.sum(comp_filter_cents*comp_filter_zps) / np.sum(comp_filter_zps)\n",
    "    new_filter_widths[i] = np.sum(comp_filter_widths)\n",
    "    new_filter_zps[i] = np.sum(comp_filter_zps)\n",
    "###i"
   ]
  },
  {
   "cell_type": "code",
   "execution_count": 102,
   "metadata": {},
   "outputs": [
    {
     "name": "stdout",
     "output_type": "stream",
     "text": [
      "zJ  1.0565217391304347 , 0.51 , 4600000000000.0 )\n",
      "YJ  1.1229166666666666 , 0.42000000000000004 , 3600000000000.0 )\n",
      "JH  1.3759666666666666 , 0.55 , 3000000000000.0 )\n",
      "HKs  1.8216666666666668 , 0.61 , 1650000000000.0 )\n"
     ]
    }
   ],
   "source": [
    "for i in range(n_new_filters):\n",
    "    print(new_filter_names[i]+'  '+str(new_filter_cents[i])+' , '+str(new_filter_widths[i])+' , '+str(new_filter_zps[i])+' )')\n",
    "###i"
   ]
  },
  {
   "cell_type": "code",
   "execution_count": 106,
   "metadata": {},
   "outputs": [
    {
     "data": {
      "text/plain": [
       "1.8581666666666666e-06"
      ]
     },
     "execution_count": 106,
     "metadata": {},
     "output_type": "execute_result"
    }
   ],
   "source": [
    "(1.654e-6*1.1e12+2.179e-6*7.0e11)/(1.1e12+7.0e11) "
   ]
  },
  {
   "cell_type": "code",
   "execution_count": null,
   "metadata": {},
   "outputs": [],
   "source": []
  }
 ],
 "metadata": {
  "kernel_info": {
   "name": "python3"
  },
  "kernelspec": {
   "display_name": "Python 3",
   "language": "python",
   "name": "python3"
  },
  "language_info": {
   "codemirror_mode": {
    "name": "ipython",
    "version": 3
   },
   "file_extension": ".py",
   "mimetype": "text/x-python",
   "name": "python",
   "nbconvert_exporter": "python",
   "pygments_lexer": "ipython3",
   "version": "3.6.3"
  },
  "nteract": {
   "version": "0.14.3"
  }
 },
 "nbformat": 4,
 "nbformat_minor": 2
}
